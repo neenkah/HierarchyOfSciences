{
 "cells": [
  {
   "cell_type": "markdown",
   "metadata": {},
   "source": [
    "# Reuters - News Articles"
   ]
  },
  {
   "cell_type": "code",
   "execution_count": null,
   "metadata": {},
   "outputs": [],
   "source": [
    "import nltk\n",
    "import pandas as pd\n",
    "# nltk.download('reuters')\n",
    "# nltk.download('punkt')\n",
    "from nltk.corpus import reuters\n",
    "\n",
    "# Extract fieldids and retrieve text\n",
    "fileids = reuters.fileids()\n",
    "text = [reuters.raw(file) for file in fileids]\n",
    "\n",
    "# Write to file\n",
    "with open('reuters.txt', 'w') as f:\n",
    "    for item in text:\n",
    "        f.write(\"%s\\n\\n\" % item)"
   ]
  },
  {
   "cell_type": "markdown",
   "metadata": {},
   "source": [
    "# JSTOR - Political Science"
   ]
  },
  {
   "cell_type": "code",
   "execution_count": null,
   "metadata": {},
   "outputs": [],
   "source": [
    "# Combining two files of JSTOR downloaded metadata\n",
    "\n",
    "import os\n",
    "from xml.dom import minidom\n",
    "from bs4 import BeautifulSoup\n",
    "\n",
    "# Create list with all usable xml files\n",
    "xmls = []\n",
    "\n",
    "# Expand this list accordingly to number of JSTOR files\n",
    "for i in ['', ' (2)']:\n",
    "    for file in os.listdir('metadata'+i):\n",
    "        location = 'metadata'+i+'/'+file\n",
    "        filename = os.fsdecode(location)\n",
    "\n",
    "        xmldoc = minidom.parse(filename)\n",
    "\n",
    "        # Filter on English abstracts\n",
    "        try:\n",
    "            itemlist = xmldoc.getElementsByTagName('abstract')\n",
    "            if itemlist[0].attributes['xml:lang'].value == \"eng\":\n",
    "                xmls.append(filename)\n",
    "        except:\n",
    "            print(\"no abstract available\")\n",
    "\n",
    "\n",
    "# Retrieve raw texts from the xmls files\n",
    "jstor_abstracts = []\n",
    "\n",
    "for file in xmls:\n",
    "    with open(file, 'r') as f:\n",
    "        soup = BeautifulSoup(f, 'lxml')\n",
    "        jstor_abstracts.append(soup.abstract.getText(separator=' ', strip=True))\n",
    "\n",
    "# Save to file\n",
    "with open('jstor.txt', 'w') as f:\n",
    "    for item in jstor_abstracts:\n",
    "        f.write(\"%s\\n\\n\" % item)"
   ]
  },
  {
   "cell_type": "markdown",
   "metadata": {},
   "source": [
    "# arXiv - Physics"
   ]
  },
  {
   "cell_type": "code",
   "execution_count": null,
   "metadata": {},
   "outputs": [],
   "source": [
    "# Source: https://github.com/Mahdisadjadi/arxivscraper/blob/master/arxivscraper/arxivscraper.py\n",
    "\n",
    "import arxivscraper\n",
    "import pandas as pd\n",
    "\n",
    "# Retrieve data\n",
    "scraper = arxivscraper.Scraper(category='physics', date_from='2020-01-01',date_until='2020-12-31')\n",
    "\n",
    "arxiv_abstracts = scraper.scrape()\n",
    "\n",
    "# Save abstracts to file\n",
    "with open('arxiv.txt', 'w') as f:\n",
    "    for item in arxiv_abstracts:\n",
    "        f.write(\"%s\\n\\n\" % item['abstract'])"
   ]
  }
 ],
 "metadata": {
  "kernelspec": {
   "display_name": "Python 3",
   "language": "python",
   "name": "python3"
  },
  "language_info": {
   "codemirror_mode": {
    "name": "ipython",
    "version": 3
   },
   "file_extension": ".py",
   "mimetype": "text/x-python",
   "name": "python",
   "nbconvert_exporter": "python",
   "pygments_lexer": "ipython3",
   "version": "3.7.0"
  }
 },
 "nbformat": 4,
 "nbformat_minor": 4
}
